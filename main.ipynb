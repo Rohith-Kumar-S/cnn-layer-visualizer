{
 "cells": [
  {
   "cell_type": "code",
   "execution_count": null,
   "id": "729f23e4",
   "metadata": {},
   "outputs": [],
   "source": [
    "import tensorflow as tf\n",
    "import torch\n",
    "from torchsummary import summary"
   ]
  },
  {
   "cell_type": "code",
   "execution_count": 2,
   "id": "b4df38c7",
   "metadata": {},
   "outputs": [],
   "source": [
    "def add_conv2d_layer(in_channels, out_channels, kernel_size=3, stride=1, padding=1):\n",
    "    \"\"\"\n",
    "    Adds a Conv2D layer to the model.\n",
    "    \n",
    "    Args:\n",
    "        in_channels: Number of input channels.\n",
    "        out_channels: Number of output channels.\n",
    "        kernel_size: Size of the convolution kernel.\n",
    "        stride: Stride of the convolution.\n",
    "        padding: Padding added to all four sides of the input.\n",
    "    \"\"\"\n",
    "    return f\"torch.nn.Conv2d(in_channels={in_channels}, out_channels={out_channels}, kernel_size={kernel_size}, stride={stride}, padding={padding})\""
   ]
  },
  {
   "cell_type": "code",
   "execution_count": 3,
   "id": "47710643",
   "metadata": {},
   "outputs": [],
   "source": [
    "def add_Linear_layer(in_features, out_features):\n",
    "    \"\"\"\n",
    "    Adds a Linear layer to the model.\n",
    "    \n",
    "    Args:\n",
    "        in_features: Number of input features.\n",
    "        out_features: Number of output features.\n",
    "    \"\"\"\n",
    "    return f\"torch.nn.Linear(in_features={in_features}, out_features={out_features})\""
   ]
  },
  {
   "cell_type": "code",
   "execution_count": 4,
   "id": "a434ea75",
   "metadata": {},
   "outputs": [],
   "source": [
    "def add_dropout_layer(p=0.5):\n",
    "    \"\"\"\n",
    "    Adds a Dropout layer to the model.\n",
    "    \n",
    "    Args:\n",
    "        p: Probability of an element to be zeroed.\n",
    "    \"\"\"\n",
    "    return f\"torch.nn.Dropout(p={p})\""
   ]
  },
  {
   "cell_type": "code",
   "execution_count": 5,
   "id": "8f42f687",
   "metadata": {},
   "outputs": [],
   "source": [
    "def add_Upsample2d_layer(scale_factor=2, mode='nearest'):\n",
    "    \"\"\"\n",
    "    Adds an Upsample layer to the model.\n",
    "    \n",
    "    Args:\n",
    "        scale_factor: The factor by which to upsample the input.\n",
    "        mode: The algorithm used for upsampling.\n",
    "    \"\"\"\n",
    "    return f\"torch.nn.Upsample(scale_factor={scale_factor}, mode='{mode}')\""
   ]
  },
  {
   "cell_type": "code",
   "execution_count": 6,
   "id": "52b3cce8",
   "metadata": {},
   "outputs": [],
   "source": [
    "def add_relu_layer(convolutional_layer):\n",
    "    \"\"\"\n",
    "    Adds a ReLU activation layer to the model.\n",
    "    \"\"\"\n",
    "    return f\"torch.nn.functional.relu(input={convolutional_layer})\""
   ]
  },
  {
   "cell_type": "code",
   "execution_count": 7,
   "id": "07e35181",
   "metadata": {},
   "outputs": [],
   "source": [
    "def add_maxpool2d_layer(convolutional_layer,kernel_size=2, stride=2):\n",
    "    \"\"\"\n",
    "    Adds a MaxPool2d layer to the model.\n",
    "    \n",
    "    Args:\n",
    "        kernel_size: Size of the window to take a max over.\n",
    "        stride: Stride of the window.\n",
    "    \"\"\"\n",
    "    return f\"torch.nn.functional.max_pool2d(input={convolutional_layer}, kernel_size={kernel_size}, stride={stride})\""
   ]
  },
  {
   "cell_type": "code",
   "execution_count": 8,
   "id": "6a6f01a7",
   "metadata": {},
   "outputs": [],
   "source": [
    "def add_concat_layer(tensor1, tensor2, dim=1):\n",
    "    \"\"\"\n",
    "    Adds a Concatenate layer to the model.\n",
    "    \n",
    "    Args:\n",
    "        tensor1: First tensor to concatenate.\n",
    "        tensor2: Second tensor to concatenate.\n",
    "        dim: Dimension along which to concatenate.\n",
    "    \"\"\"\n",
    "    return f\"torch.cat([{tensor1}, {tensor2}], dim={dim})\""
   ]
  },
  {
   "cell_type": "code",
   "execution_count": 9,
   "id": "0f6f3d22",
   "metadata": {},
   "outputs": [
    {
     "data": {
      "text/plain": [
       "'torch.nn.Conv2d(in_channels=None, out_channels=None, kernel_size=3, stride=1, padding=1)'"
      ]
     },
     "execution_count": 9,
     "metadata": {},
     "output_type": "execute_result"
    }
   ],
   "source": [
    "add_conv2d_layer( None, None, kernel_size=3, stride=1, padding=1)"
   ]
  },
  {
   "cell_type": "code",
   "execution_count": 5,
   "id": "bb3b9b9c",
   "metadata": {},
   "outputs": [],
   "source": [
    "class Parameters:\n",
    "    def __init__(self, layer):\n",
    "        self.layer = layer\n",
    "        print(f\"Parameters initialized for layer: {self.layer.id}\")\n",
    "    def get_params(self):\n",
    "        return {\n",
    "            'layer': self.layer.layer\n",
    "        }        \n"
   ]
  },
  {
   "cell_type": "code",
   "execution_count": 6,
   "id": "f1d8df5b",
   "metadata": {},
   "outputs": [],
   "source": [
    "class Conv2DParams(Parameters):\n",
    "    def __init__(self, layer, in_channels, out_channels, kernel_size=3, stride=1, padding=1):\n",
    "        super().__init__(layer)\n",
    "        self.in_channels = in_channels\n",
    "        self.out_channels = out_channels\n",
    "        self.kernel_size = kernel_size\n",
    "        self.stride = stride\n",
    "        self.padding = padding\n",
    "    \n",
    "    def get_params(self):\n",
    "        return {\n",
    "            'layer': self.layer.layer,\n",
    "            'in_channels': self.in_channels,\n",
    "            'out_channels': self.out_channels,\n",
    "            'kernel_size': self.kernel_size,\n",
    "            'stride': self.stride,\n",
    "            'padding': self.padding\n",
    "        }"
   ]
  },
  {
   "cell_type": "code",
   "execution_count": 40,
   "id": "f547f6c6",
   "metadata": {},
   "outputs": [],
   "source": [
    "class MaxPool2DParams(Parameters):\n",
    "    def __init__(self, layer, kernel_size=2, stride=2):\n",
    "        super().__init__(layer)\n",
    "        self.kernel_size = kernel_size\n",
    "        self.stride = stride\n",
    "    \n",
    "    def get_params(self):\n",
    "        return {\n",
    "            'layer': self.layer.layer,\n",
    "            'kernel_size': self.kernel_size,\n",
    "            'stride': self.stride\n",
    "        }"
   ]
  },
  {
   "cell_type": "code",
   "execution_count": null,
   "id": "0858c60a",
   "metadata": {},
   "outputs": [],
   "source": [
    "class Layer:\n",
    "    input_id_counter = 0\n",
    "    conv2d_id_counter = 0\n",
    "    maxpool2d_id_counter = 0\n",
    "    linear_id_counter = 0\n",
    "    dropout_id_counter = 0\n",
    "    upsample2d_id_counter = 0\n",
    "    relu_id_counter = 0\n",
    "    concat_id_counter = 0\n",
    "    \n",
    "    def __init__(self, layer_name, params=None):\n",
    "        \n",
    "        match layer_name:\n",
    "            case 'Input':\n",
    "                self.id = 'x'\n",
    "                Layer.input_id_counter += 1\n",
    "            case 'Conv2D':\n",
    "                self.id = 'Conv2D_'+str(Layer.conv2d_id_counter)\n",
    "                Layer.conv2d_id_counter += 1\n",
    "            case 'MaxPool2D':\n",
    "                self.id = \"MaxPool2D_\"+str(Layer.maxpool2d_id_counter)\n",
    "                Layer.maxpool2d_id_counter += 1\n",
    "            case 'Linear':\n",
    "                self.id = \"Linear_\"+ str(Layer.linear_id_counter)\n",
    "                Layer.linear_id_counter += 1\n",
    "            case 'Dropout':\n",
    "                self.id = \"dropout2d_\"+ str(Layer.dropout_id_counter)\n",
    "                Layer.dropout_id_counter += 1\n",
    "            case 'Upsample2D':\n",
    "                self.id = \"upsample2d_\"+ str(Layer.upsample2d_id_counter)\n",
    "                Layer.upsample2d_id_counter += 1\n",
    "            case 'ReLU':\n",
    "                self.id = \"relu_\"+ str(Layer.relu_id_counter)\n",
    "                Layer.relu_id_counter += 1\n",
    "            case 'Concat':\n",
    "                self.id = \"concat_\"+ str(Layer.concat_id_counter)\n",
    "                Layer.concat_id_counter += 1\n",
    "            case _:\n",
    "                raise ValueError(f\"Unknown layer type: {layer_name}\")\n",
    "        self.layer = self.id.split('_')[0]\n",
    "        self.params = params\n",
    "        \n",
    "    def get_params(self):\n",
    "        return {\n",
    "            'id': self.id,\n",
    "            'layer': self.layer,\n",
    "            'params': self.params.get_params() if self.params else {}\n",
    "        }\n",
    "    "
   ]
  },
  {
   "cell_type": "code",
   "execution_count": 42,
   "id": "fa5019ce",
   "metadata": {},
   "outputs": [],
   "source": [
    "x = torch.zeros((3, 224, 224))"
   ]
  },
  {
   "cell_type": "code",
   "execution_count": 2,
   "id": "865988d9",
   "metadata": {},
   "outputs": [],
   "source": [
    "input = Layer('Input')"
   ]
  },
  {
   "cell_type": "code",
   "execution_count": 3,
   "id": "72e4964b",
   "metadata": {},
   "outputs": [
    {
     "data": {
      "text/plain": [
       "'x'"
      ]
     },
     "execution_count": 3,
     "metadata": {},
     "output_type": "execute_result"
    }
   ],
   "source": [
    "input.id"
   ]
  },
  {
   "cell_type": "code",
   "execution_count": 17,
   "id": "20af392a",
   "metadata": {},
   "outputs": [
    {
     "name": "stdout",
     "output_type": "stream",
     "text": [
      "Parameters initialized for layer: x\n"
     ]
    },
    {
     "data": {
      "text/plain": [
       "{'id': 'conv2d_4',\n",
       " 'layer': 'conv2d',\n",
       " 'params': {'layer': 'x',\n",
       "  'in_channels': 3,\n",
       "  'out_channels': 64,\n",
       "  'kernel_size': 3,\n",
       "  'stride': 1,\n",
       "  'padding': 1}}"
      ]
     },
     "execution_count": 17,
     "metadata": {},
     "output_type": "execute_result"
    }
   ],
   "source": [
    "Layer('Conv2D', Conv2DParams(Layer('Input'), in_channels=3, out_channels=64, kernel_size=3, stride=1, padding=1)).get_params()"
   ]
  },
  {
   "cell_type": "code",
   "execution_count": 37,
   "id": "60879210",
   "metadata": {},
   "outputs": [
    {
     "name": "stdout",
     "output_type": "stream",
     "text": [
      "Parameters initialized for layer: 0\n"
     ]
    },
    {
     "data": {
      "text/plain": [
       "{'layer': 0,\n",
       " 'in_channels': 3,\n",
       " 'out_channels': 64,\n",
       " 'kernel_size': 3,\n",
       " 'stride': 1,\n",
       " 'padding': 1}"
      ]
     },
     "execution_count": 37,
     "metadata": {},
     "output_type": "execute_result"
    }
   ],
   "source": [
    "Conv2DParams(input, in_channels=3, out_channels=64, kernel_size=3, stride=1, padding=1).get_params()"
   ]
  },
  {
   "cell_type": "code",
   "execution_count": 207,
   "id": "8863343b",
   "metadata": {},
   "outputs": [],
   "source": [
    "queue = [{\"id\": \"conv2d_1\", \"layer\": \"conv2d\", \"params\": {\"layer\": \"x\", \"in_channels\": 3, \"out_channels\": 64, \"kernel_size\": 3, \"stride\": 1, \"padding\": 1}}, {\"layer\": \"relu\", \"id\": \"relu_1\", \"params\":{\"layer\": \"conv2d_1\"}}, {\"layer\": \"maxpool2d\", \"id\": \"maxpool2d_1\", \"params\":{\"layer\": \"relu_1\", \"kernel_size\": 2, \"stride\": 2}}, {\"id\": \"conv2d_2\", \"layer\": \"conv2d\", \"params\": {\"layer\": \"maxpool2d_1\", \"in_channels\": 64, \"out_channels\": 128, \"kernel_size\": 3, \"stride\": 1, \"padding\": 1}}, {\"layer\": \"relu\", \"id\": \"relu_2\", \"params\":{\"layer\": \"conv2d_2\"}}, {\"layer\": \"maxpool2d\", \"id\": \"maxpool2d_2\", \"params\":{\"layer\": \"relu_2\", \"kernel_size\": 2, \"stride\": 2}}]"
   ]
  },
  {
   "cell_type": "code",
   "execution_count": 208,
   "id": "e8a69d20",
   "metadata": {},
   "outputs": [],
   "source": [
    "model_name = \"Model\""
   ]
  },
  {
   "cell_type": "code",
   "execution_count": 209,
   "id": "78129967",
   "metadata": {},
   "outputs": [],
   "source": [
    "model_class_str = f\"class {model_name}(torch.nn.Module):\\n\"+\"\\tdef __init__(self):\\n\" + \"\\t\\tsuper().__init__()\\n\""
   ]
  },
  {
   "cell_type": "code",
   "execution_count": 210,
   "id": "62452402",
   "metadata": {},
   "outputs": [
    {
     "name": "stdout",
     "output_type": "stream",
     "text": [
      "class Model(torch.nn.Module):\n",
      "\tdef __init__(self):\n",
      "\t\tsuper().__init__()\n",
      "\n"
     ]
    }
   ],
   "source": [
    "print(model_class_str)"
   ]
  },
  {
   "cell_type": "code",
   "execution_count": 211,
   "id": "68203e38",
   "metadata": {},
   "outputs": [],
   "source": [
    "forward_str = \"\\tdef forward(self, x):\\n\""
   ]
  },
  {
   "cell_type": "code",
   "execution_count": 212,
   "id": "0919d3c9",
   "metadata": {},
   "outputs": [],
   "source": [
    "conv2d_layers = []\n",
    "relu_layers = []\n",
    "maxpool2d_layers = []\n",
    "for i, layer in enumerate(queue):\n",
    "    match layer[\"layer\"]:\n",
    "        case \"conv2d\":\n",
    "            conv2d_layers.append(layer['id'])\n",
    "            params = layer[\"params\"]\n",
    "            model_class_str += f\"\\t\\tself.{layer['id']} = {add_conv2d_layer(params['in_channels'], params['out_channels'], params['kernel_size'], params['stride'], params['padding'])}\\n\"\n",
    "            forward_str += f\"\\t\\t{layer['id']} = \"+f\"self.{layer['id']}\"+  f\"({params['layer']})\\n\"\n",
    "        case \"relu\":\n",
    "            relu_layers.append(layer['id'])\n",
    "            params = layer[\"params\"]\n",
    "            forward_str += f\"\\t\\t{layer['id']} = {add_relu_layer(params['layer'])}\\n\"\n",
    "        case \"maxpool2d\":\n",
    "            maxpool2d_layers.append(layer['id'])\n",
    "            params = layer[\"params\"]\n",
    "            forward_str += f\"\\t\\t{layer['id']} = {add_maxpool2d_layer(params['layer'], params['kernel_size'], params['stride'])}\\n\"\n",
    "model_class_str+= '\\n'+forward_str\n",
    "model_class_str += f\"\\t\\treturn {queue[-1]['id']}\\n\""
   ]
  },
  {
   "cell_type": "code",
   "execution_count": 214,
   "id": "4b443bc3",
   "metadata": {},
   "outputs": [
    {
     "name": "stdout",
     "output_type": "stream",
     "text": [
      "class Model(torch.nn.Module):\n",
      "\tdef __init__(self):\n",
      "\t\tsuper().__init__()\n",
      "\t\tself.conv2d_1 = torch.nn.Conv2d(in_channels=3, out_channels=64, kernel_size=3, stride=1, padding=1)\n",
      "\t\tself.conv2d_2 = torch.nn.Conv2d(in_channels=64, out_channels=128, kernel_size=3, stride=1, padding=1)\n",
      "\n",
      "\tdef forward(self, x):\n",
      "\t\tconv2d_1 = self.conv2d_1(x)\n",
      "\t\trelu_1 = torch.nn.functional.relu(input=conv2d_1)\n",
      "\t\tmaxpool2d_1 = torch.nn.functional.max_pool2d(input=relu_1, kernel_size=2, stride=2)\n",
      "\t\tconv2d_2 = self.conv2d_2(maxpool2d_1)\n",
      "\t\trelu_2 = torch.nn.functional.relu(input=conv2d_2)\n",
      "\t\tmaxpool2d_2 = torch.nn.functional.max_pool2d(input=relu_2, kernel_size=2, stride=2)\n",
      "\t\treturn maxpool2d_2\n",
      "\n"
     ]
    }
   ],
   "source": [
    "print(model_class_str)"
   ]
  },
  {
   "cell_type": "code",
   "execution_count": 220,
   "id": "7934aab0",
   "metadata": {},
   "outputs": [],
   "source": [
    "exec(model_class_str)"
   ]
  },
  {
   "cell_type": "code",
   "execution_count": 221,
   "id": "aced3052",
   "metadata": {},
   "outputs": [],
   "source": [
    "model = eval(f\"{model_name}()\")"
   ]
  },
  {
   "cell_type": "code",
   "execution_count": 222,
   "id": "807904e2",
   "metadata": {},
   "outputs": [
    {
     "name": "stdout",
     "output_type": "stream",
     "text": [
      "----------------------------------------------------------------\n",
      "        Layer (type)               Output Shape         Param #\n",
      "================================================================\n",
      "            Conv2d-1          [1, 64, 224, 224]           1,792\n",
      "            Conv2d-2         [1, 128, 112, 112]          73,856\n",
      "================================================================\n",
      "Total params: 75,648\n",
      "Trainable params: 75,648\n",
      "Non-trainable params: 0\n",
      "----------------------------------------------------------------\n",
      "Input size (MB): 0.57\n",
      "Forward/backward pass size (MB): 36.75\n",
      "Params size (MB): 0.29\n",
      "Estimated Total Size (MB): 37.61\n",
      "----------------------------------------------------------------\n"
     ]
    }
   ],
   "source": [
    "summary(model, input_size=(3, 224, 224), batch_size=1, device='cpu')"
   ]
  },
  {
   "cell_type": "code",
   "execution_count": null,
   "id": "75583b9a",
   "metadata": {},
   "outputs": [],
   "source": []
  }
 ],
 "metadata": {
  "kernelspec": {
   "display_name": "cv_env_20250327",
   "language": "python",
   "name": "python3"
  },
  "language_info": {
   "codemirror_mode": {
    "name": "ipython",
    "version": 3
   },
   "file_extension": ".py",
   "mimetype": "text/x-python",
   "name": "python",
   "nbconvert_exporter": "python",
   "pygments_lexer": "ipython3",
   "version": "3.11.11"
  }
 },
 "nbformat": 4,
 "nbformat_minor": 5
}
